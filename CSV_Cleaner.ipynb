{
  "nbformat": 4,
  "nbformat_minor": 0,
  "metadata": {
    "colab": {
      "name": "CSV-Cleaner.ipynb",
      "provenance": [],
      "collapsed_sections": [],
      "toc_visible": true,
      "authorship_tag": "ABX9TyMn2e7hUJvcfGfADS5bbHub",
      "include_colab_link": true
    },
    "kernelspec": {
      "name": "python3",
      "display_name": "Python 3"
    }
  },
  "cells": [
    {
      "cell_type": "markdown",
      "metadata": {
        "id": "view-in-github",
        "colab_type": "text"
      },
      "source": [
        "<a href=\"https://colab.research.google.com/github/slowthisbirddown/CSV-Organizer/blob/master/CSV_Cleaner.ipynb\" target=\"_parent\"><img src=\"https://colab.research.google.com/assets/colab-badge.svg\" alt=\"Open In Colab\"/></a>"
      ]
    },
    {
      "cell_type": "markdown",
      "metadata": {
        "id": "DO5IcwreTfad"
      },
      "source": [
        "## Here is a  CSV cleaner to run a scraped CSV file through and outputs a new one with cleaner columns and easier to click on links.\r\n",
        "\r\n",
        "Some prerequisites:\r\n",
        "\r\n",
        "- Google Drive downloaded to your PC (https://www.google.com/drive/download/)\r\n",
        "- \r\n",
        "\r\n",
        "\r\n",
        "This is the exported sitemap for webscrape.io\r\n",
        "\r\n",
        "https://pastebin.com/GTbMbY0n\r\n",
        "\r\n",
        "My ##ToDo\r\n",
        "\r\n",
        "- Scrape \"First\" page\r\n",
        "- Pages with details not hidden (Not common) will have to be manually clicked on for phone number"
      ]
    },
    {
      "cell_type": "code",
      "metadata": {
        "id": "M2hMgBipTmIW"
      },
      "source": [
        "import pandas as pd\r\n",
        "import numpy as np\r\n"
      ],
      "execution_count": 4,
      "outputs": []
    },
    {
      "cell_type": "code",
      "metadata": {
        "id": "1jYjZBQ9UKmo"
      },
      "source": [
        "from google.colab import files\r\n",
        "uploaded = files.upload()"
      ],
      "execution_count": null,
      "outputs": []
    },
    {
      "cell_type": "code",
      "metadata": {
        "id": "evR_519JUSjp"
      },
      "source": [
        "import io\r\n",
        "df = pd.read_csv(io.BytesIO(uploaded['angies-list.csv']))\r\n",
        "# Dataset is now stored in a Pandas Dataframe"
      ],
      "execution_count": 35,
      "outputs": []
    },
    {
      "cell_type": "code",
      "metadata": {
        "id": "qVhPhMPAeNkQ"
      },
      "source": [
        "df.rename(columns = {'web-scraper-start-url':'URL'}, inplace = True)\r\n",
        "df.rename(columns = {'biz_name':'Business'}, inplace = True)\r\n",
        "df.rename(columns = {'get_phone':'Phone'}, inplace = True)\r\n",
        "df.rename(columns = {'Get addy':'State'}, inplace = True) "
      ],
      "execution_count": 36,
      "outputs": []
    },
    {
      "cell_type": "code",
      "metadata": {
        "id": "kFGkBkjz1pdi"
      },
      "source": [
        "df = df[['State','Business', 'Phone', 'URL']]\r\n",
        "\r\n"
      ],
      "execution_count": 37,
      "outputs": []
    },
    {
      "cell_type": "code",
      "metadata": {
        "id": "K-XHArkq48nB"
      },
      "source": [
        "df.to_csv('angies-cleaned.csv') "
      ],
      "execution_count": 40,
      "outputs": []
    },
    {
      "cell_type": "code",
      "metadata": {
        "colab": {
          "base_uri": "https://localhost:8080/",
          "height": 17
        },
        "id": "iWcnyq1oZYmb",
        "outputId": "3a2b43e7-8653-4974-fd21-bc540e2e51c8"
      },
      "source": [
        "from google.colab import files\r\n",
        "files.download(\"angies-cleaned.csv\")"
      ],
      "execution_count": 41,
      "outputs": [
        {
          "output_type": "display_data",
          "data": {
            "application/javascript": [
              "\n",
              "    async function download(id, filename, size) {\n",
              "      if (!google.colab.kernel.accessAllowed) {\n",
              "        return;\n",
              "      }\n",
              "      const div = document.createElement('div');\n",
              "      const label = document.createElement('label');\n",
              "      label.textContent = `Downloading \"${filename}\": `;\n",
              "      div.appendChild(label);\n",
              "      const progress = document.createElement('progress');\n",
              "      progress.max = size;\n",
              "      div.appendChild(progress);\n",
              "      document.body.appendChild(div);\n",
              "\n",
              "      const buffers = [];\n",
              "      let downloaded = 0;\n",
              "\n",
              "      const channel = await google.colab.kernel.comms.open(id);\n",
              "      // Send a message to notify the kernel that we're ready.\n",
              "      channel.send({})\n",
              "\n",
              "      for await (const message of channel.messages) {\n",
              "        // Send a message to notify the kernel that we're ready.\n",
              "        channel.send({})\n",
              "        if (message.buffers) {\n",
              "          for (const buffer of message.buffers) {\n",
              "            buffers.push(buffer);\n",
              "            downloaded += buffer.byteLength;\n",
              "            progress.value = downloaded;\n",
              "          }\n",
              "        }\n",
              "      }\n",
              "      const blob = new Blob(buffers, {type: 'application/binary'});\n",
              "      const a = document.createElement('a');\n",
              "      a.href = window.URL.createObjectURL(blob);\n",
              "      a.download = filename;\n",
              "      div.appendChild(a);\n",
              "      a.click();\n",
              "      div.remove();\n",
              "    }\n",
              "  "
            ],
            "text/plain": [
              "<IPython.core.display.Javascript object>"
            ]
          },
          "metadata": {
            "tags": []
          }
        },
        {
          "output_type": "display_data",
          "data": {
            "application/javascript": [
              "download(\"download_074d220e-423f-4e36-88b7-9aea14a4da9e\", \"angies-cleaned.csv\", 32910)"
            ],
            "text/plain": [
              "<IPython.core.display.Javascript object>"
            ]
          },
          "metadata": {
            "tags": []
          }
        }
      ]
    }
  ]
}